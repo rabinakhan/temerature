{
 "cells": [
  {
   "cell_type": "code",
   "execution_count": 3,
   "id": "c830d411",
   "metadata": {},
   "outputs": [],
   "source": [
    "import numpy as np"
   ]
  },
  {
   "cell_type": "code",
   "execution_count": 4,
   "id": "fc9c4af2",
   "metadata": {},
   "outputs": [],
   "source": [
    "\n",
    "temp=np.array([[[[11,8,6,12,7,9,8],[28,32,24,25,28,27,32]],        \n",
    "                 [[7,10,10,-13,8,14,9],[26,31,25,21,28,30,22]],\n",
    "                 [[9,6,13,8,6,6,13],[24,30,24,27,25,20,25]],\n",
    "                 [[13,13,13,6,15,7,9],[29,20,24,23,21,24,29]]],\n",
    " \n",
    "                [[[11,8,11,9,13,11,9],[24,24,24,31,20,23,32]],\n",
    "                 [[13,7,10,15,13,7,10],[29,29,24,25,28,32,28]],\n",
    "                 [[8,13,8,8,15,12,11],[30,27,28,21,27,31,25]],\n",
    "                 [[13,12,15,13,11,7,6],[29,26,30,26,22,32,27]]],\n",
    "\n",
    "                [[[5,3,4,5,3,3,21],[19,18,18,18,22,2,5]],\n",
    "                 [[5,6,6,4,7,7,21],[20,18,19,20,20,7,2]],\n",
    "                 [[7,6,5,7,7,5,19],[20,20,22,18,20,4,3]],\n",
    "                 [[8,7,6,2,6,4,18],[20,19,22,18,19,4,7]]],\n",
    "                \n",
    "                [[[7,10,-10,11,11,11,22],[21,20,19,18,20,71,12]],\n",
    "                 [[10,7,8,7,10,7,19],[21,22,21,18,20,7,8]],\n",
    "                 [[10,10,12,7,7,7,21],[20,22,22,21,21,12,12]],\n",
    "                 [[7,7,8,10,11,12,18],[21,22,21,18,18,10,7]]]])"
   ]
  },
  {
   "cell_type": "raw",
   "id": "b3835b53",
   "metadata": {},
   "source": [
    "Q1:Write the shape of numpy array that you have created?"
   ]
  },
  {
   "cell_type": "code",
   "execution_count": 3,
   "id": "8243815f",
   "metadata": {},
   "outputs": [
    {
     "data": {
      "text/plain": [
       "(4, 4, 2, 7)"
      ]
     },
     "execution_count": 3,
     "metadata": {},
     "output_type": "execute_result"
    }
   ],
   "source": [
    "temp.shape"
   ]
  },
  {
   "cell_type": "raw",
   "id": "3d8be854",
   "metadata": {},
   "source": [
    "\n",
    "Q2:print the daily temp for first week of every month?"
   ]
  },
  {
   "cell_type": "code",
   "execution_count": 4,
   "id": "8f251fb5",
   "metadata": {},
   "outputs": [
    {
     "name": "stdout",
     "output_type": "stream",
     "text": [
      "[[[[ 11   8   6  12   7   9   8]\n",
      "   [ 28  32  24  25  28  27  32]]\n",
      "\n",
      "  [[  7  10  10 -13   8  14   9]\n",
      "   [ 26  31  25  21  28  30  22]]\n",
      "\n",
      "  [[  9   6  13   8   6   6  13]\n",
      "   [ 24  30  24  27  25  20  25]]\n",
      "\n",
      "  [[ 13  13  13   6  15   7   9]\n",
      "   [ 29  20  24  23  21  24  29]]]\n",
      "\n",
      "\n",
      " [[[ 11   8  11   9  13  11   9]\n",
      "   [ 24  24  24  31  20  23  32]]\n",
      "\n",
      "  [[ 13   7  10  15  13   7  10]\n",
      "   [ 29  29  24  25  28  32  28]]\n",
      "\n",
      "  [[  8  13   8   8  15  12  11]\n",
      "   [ 30  27  28  21  27  31  25]]\n",
      "\n",
      "  [[ 13  12  15  13  11   7   6]\n",
      "   [ 29  26  30  26  22  32  27]]]\n",
      "\n",
      "\n",
      " [[[  5   3   4   5   3   3  21]\n",
      "   [ 19  18  18  18  22   2   5]]\n",
      "\n",
      "  [[  5   6   6   4   7   7  21]\n",
      "   [ 20  18  19  20  20   7   2]]\n",
      "\n",
      "  [[  7   6   5   7   7   5  19]\n",
      "   [ 20  20  22  18  20   4   3]]\n",
      "\n",
      "  [[  8   7   6   2   6   4  18]\n",
      "   [ 20  19  22  18  19   4   7]]]\n",
      "\n",
      "\n",
      " [[[  7  10 -10  11  11  11  22]\n",
      "   [ 21  20  19  18  20  71  12]]\n",
      "\n",
      "  [[ 10   7   8   7  10   7  19]\n",
      "   [ 21  22  21  18  20   7   8]]\n",
      "\n",
      "  [[ 10  10  12   7   7   7  21]\n",
      "   [ 20  22  22  21  21  12  12]]\n",
      "\n",
      "  [[  7   7   8  10  11  12  18]\n",
      "   [ 21  22  21  18  18  10   7]]]] 0 0\n",
      "[[[[ 11   8   6  12   7   9   8]\n",
      "   [ 28  32  24  25  28  27  32]]\n",
      "\n",
      "  [[  7  10  10 -13   8  14   9]\n",
      "   [ 26  31  25  21  28  30  22]]\n",
      "\n",
      "  [[  9   6  13   8   6   6  13]\n",
      "   [ 24  30  24  27  25  20  25]]\n",
      "\n",
      "  [[ 13  13  13   6  15   7   9]\n",
      "   [ 29  20  24  23  21  24  29]]]\n",
      "\n",
      "\n",
      " [[[ 11   8  11   9  13  11   9]\n",
      "   [ 24  24  24  31  20  23  32]]\n",
      "\n",
      "  [[ 13   7  10  15  13   7  10]\n",
      "   [ 29  29  24  25  28  32  28]]\n",
      "\n",
      "  [[  8  13   8   8  15  12  11]\n",
      "   [ 30  27  28  21  27  31  25]]\n",
      "\n",
      "  [[ 13  12  15  13  11   7   6]\n",
      "   [ 29  26  30  26  22  32  27]]]\n",
      "\n",
      "\n",
      " [[[  5   3   4   5   3   3  21]\n",
      "   [ 19  18  18  18  22   2   5]]\n",
      "\n",
      "  [[  5   6   6   4   7   7  21]\n",
      "   [ 20  18  19  20  20   7   2]]\n",
      "\n",
      "  [[  7   6   5   7   7   5  19]\n",
      "   [ 20  20  22  18  20   4   3]]\n",
      "\n",
      "  [[  8   7   6   2   6   4  18]\n",
      "   [ 20  19  22  18  19   4   7]]]\n",
      "\n",
      "\n",
      " [[[  7  10 -10  11  11  11  22]\n",
      "   [ 21  20  19  18  20  71  12]]\n",
      "\n",
      "  [[ 10   7   8   7  10   7  19]\n",
      "   [ 21  22  21  18  20   7   8]]\n",
      "\n",
      "  [[ 10  10  12   7   7   7  21]\n",
      "   [ 20  22  22  21  21  12  12]]\n",
      "\n",
      "  [[  7   7   8  10  11  12  18]\n",
      "   [ 21  22  21  18  18  10   7]]]] 1 0\n",
      "[[[[ 11   8   6  12   7   9   8]\n",
      "   [ 28  32  24  25  28  27  32]]\n",
      "\n",
      "  [[  7  10  10 -13   8  14   9]\n",
      "   [ 26  31  25  21  28  30  22]]\n",
      "\n",
      "  [[  9   6  13   8   6   6  13]\n",
      "   [ 24  30  24  27  25  20  25]]\n",
      "\n",
      "  [[ 13  13  13   6  15   7   9]\n",
      "   [ 29  20  24  23  21  24  29]]]\n",
      "\n",
      "\n",
      " [[[ 11   8  11   9  13  11   9]\n",
      "   [ 24  24  24  31  20  23  32]]\n",
      "\n",
      "  [[ 13   7  10  15  13   7  10]\n",
      "   [ 29  29  24  25  28  32  28]]\n",
      "\n",
      "  [[  8  13   8   8  15  12  11]\n",
      "   [ 30  27  28  21  27  31  25]]\n",
      "\n",
      "  [[ 13  12  15  13  11   7   6]\n",
      "   [ 29  26  30  26  22  32  27]]]\n",
      "\n",
      "\n",
      " [[[  5   3   4   5   3   3  21]\n",
      "   [ 19  18  18  18  22   2   5]]\n",
      "\n",
      "  [[  5   6   6   4   7   7  21]\n",
      "   [ 20  18  19  20  20   7   2]]\n",
      "\n",
      "  [[  7   6   5   7   7   5  19]\n",
      "   [ 20  20  22  18  20   4   3]]\n",
      "\n",
      "  [[  8   7   6   2   6   4  18]\n",
      "   [ 20  19  22  18  19   4   7]]]\n",
      "\n",
      "\n",
      " [[[  7  10 -10  11  11  11  22]\n",
      "   [ 21  20  19  18  20  71  12]]\n",
      "\n",
      "  [[ 10   7   8   7  10   7  19]\n",
      "   [ 21  22  21  18  20   7   8]]\n",
      "\n",
      "  [[ 10  10  12   7   7   7  21]\n",
      "   [ 20  22  22  21  21  12  12]]\n",
      "\n",
      "  [[  7   7   8  10  11  12  18]\n",
      "   [ 21  22  21  18  18  10   7]]]] 2 0\n",
      "[[[[ 11   8   6  12   7   9   8]\n",
      "   [ 28  32  24  25  28  27  32]]\n",
      "\n",
      "  [[  7  10  10 -13   8  14   9]\n",
      "   [ 26  31  25  21  28  30  22]]\n",
      "\n",
      "  [[  9   6  13   8   6   6  13]\n",
      "   [ 24  30  24  27  25  20  25]]\n",
      "\n",
      "  [[ 13  13  13   6  15   7   9]\n",
      "   [ 29  20  24  23  21  24  29]]]\n",
      "\n",
      "\n",
      " [[[ 11   8  11   9  13  11   9]\n",
      "   [ 24  24  24  31  20  23  32]]\n",
      "\n",
      "  [[ 13   7  10  15  13   7  10]\n",
      "   [ 29  29  24  25  28  32  28]]\n",
      "\n",
      "  [[  8  13   8   8  15  12  11]\n",
      "   [ 30  27  28  21  27  31  25]]\n",
      "\n",
      "  [[ 13  12  15  13  11   7   6]\n",
      "   [ 29  26  30  26  22  32  27]]]\n",
      "\n",
      "\n",
      " [[[  5   3   4   5   3   3  21]\n",
      "   [ 19  18  18  18  22   2   5]]\n",
      "\n",
      "  [[  5   6   6   4   7   7  21]\n",
      "   [ 20  18  19  20  20   7   2]]\n",
      "\n",
      "  [[  7   6   5   7   7   5  19]\n",
      "   [ 20  20  22  18  20   4   3]]\n",
      "\n",
      "  [[  8   7   6   2   6   4  18]\n",
      "   [ 20  19  22  18  19   4   7]]]\n",
      "\n",
      "\n",
      " [[[  7  10 -10  11  11  11  22]\n",
      "   [ 21  20  19  18  20  71  12]]\n",
      "\n",
      "  [[ 10   7   8   7  10   7  19]\n",
      "   [ 21  22  21  18  20   7   8]]\n",
      "\n",
      "  [[ 10  10  12   7   7   7  21]\n",
      "   [ 20  22  22  21  21  12  12]]\n",
      "\n",
      "  [[  7   7   8  10  11  12  18]\n",
      "   [ 21  22  21  18  18  10   7]]]] 3 0\n"
     ]
    }
   ],
   "source": [
    "for i in range(4):\n",
    "    print(temp,i,0)"
   ]
  },
  {
   "cell_type": "raw",
   "id": "23566e55",
   "metadata": {},
   "source": [
    "Q:print the temperatures for tuesday of each month"
   ]
  },
  {
   "cell_type": "code",
   "execution_count": 5,
   "id": "5b6b580f",
   "metadata": {},
   "outputs": [
    {
     "data": {
      "text/plain": [
       "array([[[ 8, 32],\n",
       "        [10, 31],\n",
       "        [ 6, 30],\n",
       "        [13, 20]],\n",
       "\n",
       "       [[ 8, 24],\n",
       "        [ 7, 29],\n",
       "        [13, 27],\n",
       "        [12, 26]],\n",
       "\n",
       "       [[ 3, 18],\n",
       "        [ 6, 18],\n",
       "        [ 6, 20],\n",
       "        [ 7, 19]],\n",
       "\n",
       "       [[10, 20],\n",
       "        [ 7, 22],\n",
       "        [10, 22],\n",
       "        [ 7, 22]]])"
      ]
     },
     "execution_count": 5,
     "metadata": {},
     "output_type": "execute_result"
    }
   ],
   "source": [
    "temp[:,:,:,1]"
   ]
  },
  {
   "cell_type": "code",
   "execution_count": 6,
   "id": "db0fd748",
   "metadata": {},
   "outputs": [
    {
     "name": "stdout",
     "output_type": "stream",
     "text": [
      "Object `feb` not found.\n"
     ]
    }
   ],
   "source": [
    "Q:print only the maximum temperature for all the weekdays of dec and feb?"
   ]
  },
  {
   "cell_type": "code",
   "execution_count": 7,
   "id": "3fe8d1ed",
   "metadata": {},
   "outputs": [
    {
     "data": {
      "text/plain": [
       "array([[[24, 24, 24, 31, 20],\n",
       "        [29, 29, 24, 25, 28],\n",
       "        [30, 27, 28, 21, 27],\n",
       "        [29, 26, 30, 26, 22]],\n",
       "\n",
       "       [[21, 20, 19, 18, 20],\n",
       "        [21, 22, 21, 18, 20],\n",
       "        [20, 22, 22, 21, 21],\n",
       "        [21, 22, 21, 18, 18]]])"
      ]
     },
     "execution_count": 7,
     "metadata": {},
     "output_type": "execute_result"
    }
   ],
   "source": [
    "temp[1::2,:,1,0:5]"
   ]
  },
  {
   "cell_type": "markdown",
   "id": "f3c1df1a",
   "metadata": {},
   "source": [
    "Q:print all the days along with the week number in november when the minimum temperature was less than 8 degrees."
   ]
  },
  {
   "cell_type": "code",
   "execution_count": 8,
   "id": "fb13485e",
   "metadata": {},
   "outputs": [
    {
     "name": "stdout",
     "output_type": "stream",
     "text": [
      "(0,) 6\n",
      "(1,) 7\n",
      "(2,) 7\n",
      "(3,) -13\n",
      "(4,) 6\n",
      "(5,) 6\n",
      "(6,) 6\n",
      "(7,) 6\n",
      "(8,) 7\n"
     ]
    }
   ],
   "source": [
    "a=temp[0,:,0,:]\n",
    "np.extract(a<8,a)\n",
    "for index, i in np.ndenumerate(np.extract(a<8,a)):\n",
    "    print(index,i)"
   ]
  },
  {
   "cell_type": "code",
   "execution_count": 9,
   "id": "dd56b701",
   "metadata": {},
   "outputs": [],
   "source": [
    "a=temp[0,:,0,:]"
   ]
  },
  {
   "cell_type": "code",
   "execution_count": 10,
   "id": "58d1d065",
   "metadata": {},
   "outputs": [],
   "source": [
    "b=np.where(a<8)\n",
    "day={0:'mon',1:'tue',2:'wed',3:'thur',4:'fri',5:'sat',6:'sun'}"
   ]
  },
  {
   "cell_type": "code",
   "execution_count": 11,
   "id": "53dd8ebb",
   "metadata": {},
   "outputs": [],
   "source": [
    "for i in range(len(b[0])):\n",
    "    week={0:'week 1',1:'week 2',2:'week 3 ',3:'week 4'}"
   ]
  },
  {
   "cell_type": "code",
   "execution_count": 12,
   "id": "af7aabc1",
   "metadata": {},
   "outputs": [
    {
     "name": "stdout",
     "output_type": "stream",
     "text": [
      "week 1\n",
      "wed\n",
      "week 1\n",
      "fri\n",
      "week 2\n",
      "mon\n",
      "week 2\n",
      "thur\n",
      "week 3 \n",
      "tue\n",
      "week 3 \n",
      "fri\n",
      "week 3 \n",
      "sat\n",
      "week 4\n",
      "thur\n",
      "week 4\n",
      "sat\n"
     ]
    }
   ],
   "source": [
    "for i in range(len(b[0])):\n",
    "    print(week[b[0][i]])\n",
    "    print(day[b[1][i]])"
   ]
  },
  {
   "cell_type": "raw",
   "id": "66aaea1f",
   "metadata": {},
   "source": [
    "Q:print all the weeks in dec and jan where the maximum temperature has crossed a threshold "
   ]
  },
  {
   "cell_type": "code",
   "execution_count": 13,
   "id": "17e32829",
   "metadata": {},
   "outputs": [
    {
     "name": "stdout",
     "output_type": "stream",
     "text": [
      "[[[24 24 24 31 20 23 32]\n",
      "  [29 29 24 25 28 32 28]\n",
      "  [30 27 28 21 27 31 25]\n",
      "  [29 26 30 26 22 32 27]]\n",
      "\n",
      " [[19 18 18 18 22  2  5]\n",
      "  [20 18 19 20 20  7  2]\n",
      "  [20 20 22 18 20  4  3]\n",
      "  [20 19 22 18 19  4  7]]]\n"
     ]
    }
   ],
   "source": [
    "c=temp[1:3,:,1,:]\n",
    "print(c)"
   ]
  },
  {
   "cell_type": "code",
   "execution_count": 14,
   "id": "ddef9a80",
   "metadata": {},
   "outputs": [
    {
     "data": {
      "text/plain": [
       "(array([0, 0, 0, 0, 0, 0, 0, 0, 0, 0, 0, 0, 0, 0, 0, 0, 0, 0, 0, 0, 0, 0,\n",
       "        0, 0, 0, 0, 0, 1, 1, 1], dtype=int64),\n",
       " array([0, 0, 0, 0, 0, 0, 1, 1, 1, 1, 1, 1, 1, 2, 2, 2, 2, 2, 2, 2, 3, 3,\n",
       "        3, 3, 3, 3, 3, 0, 2, 3], dtype=int64),\n",
       " array([0, 1, 2, 3, 5, 6, 0, 1, 2, 3, 4, 5, 6, 0, 1, 2, 3, 4, 5, 6, 0, 1,\n",
       "        2, 3, 4, 5, 6, 4, 2, 2], dtype=int64))"
      ]
     },
     "execution_count": 14,
     "metadata": {},
     "output_type": "execute_result"
    }
   ],
   "source": [
    "np.where(c>20)"
   ]
  },
  {
   "cell_type": "code",
   "execution_count": 15,
   "id": "da22c789",
   "metadata": {},
   "outputs": [
    {
     "name": "stdout",
     "output_type": "stream",
     "text": [
      "week where days have temp grater than 20 are\n",
      "dec,jan\n",
      "[[11  8  6 12  7  9  8]\n",
      " [28 32 24 25 28 27 32]]       [[11  8 11  9 13 11  9]\n",
      " [24 24 24 31 20 23 32]]\n",
      "[[  7  10  10 -13   8  14   9]\n",
      " [ 26  31  25  21  28  30  22]]       [[13  7 10 15 13  7 10]\n",
      " [29 29 24 25 28 32 28]]\n",
      "[[ 9  6 13  8  6  6 13]\n",
      " [24 30 24 27 25 20 25]]       [[ 8 13  8  8 15 12 11]\n",
      " [30 27 28 21 27 31 25]]\n",
      "[[13 13 13  6 15  7  9]\n",
      " [29 20 24 23 21 24 29]]       [[13 12 15 13 11  7  6]\n",
      " [29 26 30 26 22 32 27]]\n"
     ]
    }
   ],
   "source": [
    "print('week where days have temp grater than 20 are')\n",
    "print('dec,jan')\n",
    "for i in range(len(temp[0])):\n",
    "    print(temp[0][i],\"     \",temp[1][i])"
   ]
  },
  {
   "cell_type": "raw",
   "id": "754175d6",
   "metadata": {},
   "source": [
    "Q:check if there are any absurd values present in the dataset(like some temp which should not be present in the data)"
   ]
  },
  {
   "cell_type": "code",
   "execution_count": 16,
   "id": "81bc3c27",
   "metadata": {},
   "outputs": [],
   "source": [
    "mean=np.mean(temp[0])"
   ]
  },
  {
   "cell_type": "code",
   "execution_count": 17,
   "id": "fd426bac",
   "metadata": {},
   "outputs": [
    {
     "data": {
      "text/plain": [
       "17.267857142857142"
      ]
     },
     "execution_count": 17,
     "metadata": {},
     "output_type": "execute_result"
    }
   ],
   "source": [
    "mean"
   ]
  },
  {
   "cell_type": "code",
   "execution_count": 18,
   "id": "5650fe51",
   "metadata": {},
   "outputs": [],
   "source": [
    "q1=np.percentile(temp[0],25)"
   ]
  },
  {
   "cell_type": "code",
   "execution_count": 19,
   "id": "4085f6a8",
   "metadata": {},
   "outputs": [
    {
     "data": {
      "text/plain": [
       "9.0"
      ]
     },
     "execution_count": 19,
     "metadata": {},
     "output_type": "execute_result"
    }
   ],
   "source": [
    "q1"
   ]
  },
  {
   "cell_type": "code",
   "execution_count": 20,
   "id": "58a74f7d",
   "metadata": {},
   "outputs": [],
   "source": [
    "q3=np.percentile(temp[0],75)"
   ]
  },
  {
   "cell_type": "code",
   "execution_count": 21,
   "id": "795e199e",
   "metadata": {},
   "outputs": [
    {
     "data": {
      "text/plain": [
       "25.0"
      ]
     },
     "execution_count": 21,
     "metadata": {},
     "output_type": "execute_result"
    }
   ],
   "source": [
    "q3"
   ]
  },
  {
   "cell_type": "code",
   "execution_count": 22,
   "id": "47539487",
   "metadata": {},
   "outputs": [],
   "source": [
    "iqr=q3-q1"
   ]
  },
  {
   "cell_type": "code",
   "execution_count": 23,
   "id": "04561b99",
   "metadata": {},
   "outputs": [
    {
     "data": {
      "text/plain": [
       "16.0"
      ]
     },
     "execution_count": 23,
     "metadata": {},
     "output_type": "execute_result"
    }
   ],
   "source": [
    "iqr"
   ]
  },
  {
   "cell_type": "code",
   "execution_count": 24,
   "id": "d7926f08",
   "metadata": {},
   "outputs": [
    {
     "name": "stdout",
     "output_type": "stream",
     "text": [
      "-6.732142857142858\n",
      "41.26785714285714\n"
     ]
    }
   ],
   "source": [
    "outlier_1=mean-1.5*iqr\n",
    "outlier_2=mean+1.5*iqr\n",
    "print(outlier_1)\n",
    "print(outlier_2)"
   ]
  },
  {
   "cell_type": "code",
   "execution_count": 25,
   "id": "dda45e4d",
   "metadata": {},
   "outputs": [
    {
     "name": "stdout",
     "output_type": "stream",
     "text": [
      "(array([1], dtype=int64), array([0], dtype=int64), array([3], dtype=int64))\n"
     ]
    }
   ],
   "source": [
    "x=np.where(temp[0]<outlier_1) #LOCATION IN RESULT\n",
    "print(x)"
   ]
  },
  {
   "cell_type": "code",
   "execution_count": 26,
   "id": "30cc7a3a",
   "metadata": {},
   "outputs": [
    {
     "name": "stdout",
     "output_type": "stream",
     "text": [
      "(array([], dtype=int64), array([], dtype=int64), array([], dtype=int64))\n"
     ]
    }
   ],
   "source": [
    "y=np.where(temp[0]>outlier_2)\n",
    "print(y)"
   ]
  },
  {
   "cell_type": "raw",
   "id": "b63a087d",
   "metadata": {},
   "source": [
    "Q:Find and print the indexes of all the outlier(unusual) values present in the above dataset"
   ]
  },
  {
   "cell_type": "raw",
   "id": "f4e1874e",
   "metadata": {},
   "source": [
    "Q:Replace the outliers with an appropriate value."
   ]
  },
  {
   "cell_type": "code",
   "execution_count": 27,
   "id": "f9450ea1",
   "metadata": {},
   "outputs": [
    {
     "name": "stdout",
     "output_type": "stream",
     "text": [
      "[[[11  8  6 12  7  9  8]\n",
      "  [28 32 24 25 28 27 32]]\n",
      "\n",
      " [[ 7 10 10  8  8 14  9]\n",
      "  [26 31 25 21 28 30 22]]\n",
      "\n",
      " [[ 9  6 13  8  6  6 13]\n",
      "  [24 30 24 27 25 20 25]]\n",
      "\n",
      " [[13 13 13  6 15  7  9]\n",
      "  [29 20 24 23 21 24 29]]]\n",
      "[[[11  8  6 12  7  9  8]\n",
      "  [28 32 24 25 28 27 32]]\n",
      "\n",
      " [[ 7 10 10  8  8 14  9]\n",
      "  [26 31 25 21 28 30 22]]\n",
      "\n",
      " [[ 9  6 13  8  6  6 13]\n",
      "  [24 30 24 27 25 20 25]]\n",
      "\n",
      " [[13 13 13  6 15  7  9]\n",
      "  [29 20 24 23 21 24 29]]]\n"
     ]
    }
   ],
   "source": [
    "temp[0][temp[0]<outlier_1]=np.mean(temp[0,:,0,:])\n",
    "print(temp[0])\n",
    "temp[0][temp[0]>outlier_2]=np.mean(temp[0,:,1,:])\n",
    "print(temp[0])"
   ]
  },
  {
   "cell_type": "raw",
   "id": "15e177ce",
   "metadata": {},
   "source": [
    "Q:Find the average max temperature for the winter months in jaipur"
   ]
  },
  {
   "cell_type": "code",
   "execution_count": 28,
   "id": "a7a839ee",
   "metadata": {},
   "outputs": [
    {
     "data": {
      "text/plain": [
       "21.848214285714285"
      ]
     },
     "execution_count": 28,
     "metadata": {},
     "output_type": "execute_result"
    }
   ],
   "source": [
    "np.average(temp[:,:,1,:])"
   ]
  },
  {
   "cell_type": "raw",
   "id": "fd7bad58",
   "metadata": {},
   "source": [
    "Q:Find the weekly min avg temp for the month of dec in jaipur"
   ]
  },
  {
   "cell_type": "code",
   "execution_count": 29,
   "id": "43c1ae28",
   "metadata": {},
   "outputs": [
    {
     "name": "stdout",
     "output_type": "stream",
     "text": [
      "week 1 minimum temp of dec 10.285714285714286\n",
      "week 2 minimum temp of dec 10.714285714285714\n"
     ]
    }
   ],
   "source": [
    "min=temp[1,0,0,:]\n",
    "print('week 1 minimum temp of dec',np.average(min))\n",
    "print('week 2 minimum temp of dec',np.average(temp[1,1,0,:]))"
   ]
  },
  {
   "cell_type": "code",
   "execution_count": 30,
   "id": "2e93de5b",
   "metadata": {},
   "outputs": [
    {
     "name": "stdout",
     "output_type": "stream",
     "text": [
      "week 3 minimum temp of dec 10.714285714285714\n",
      "week 4 minimum temp of dec 11.0\n"
     ]
    }
   ],
   "source": [
    "print('week 3 minimum temp of dec',np.average(temp[1,2,0,:]))\n",
    "print('week 4 minimum temp of dec',np.average(temp[1,3,0,:]))"
   ]
  },
  {
   "cell_type": "raw",
   "id": "85d08cea",
   "metadata": {},
   "source": [
    "Q:find overall average temp for the months dec and jan"
   ]
  },
  {
   "cell_type": "code",
   "execution_count": 31,
   "id": "7431e844",
   "metadata": {},
   "outputs": [
    {
     "data": {
      "text/plain": [
       "15.035714285714286"
      ]
     },
     "execution_count": 31,
     "metadata": {},
     "output_type": "execute_result"
    }
   ],
   "source": [
    "np.average(temp[1:3,])"
   ]
  },
  {
   "cell_type": "raw",
   "id": "ce4a245f",
   "metadata": {},
   "source": [
    "Q16:find the least temp exp by the city in  month of dec and jan ,also print the exactv date for the same"
   ]
  },
  {
   "cell_type": "code",
   "execution_count": 32,
   "id": "305fb064",
   "metadata": {},
   "outputs": [
    {
     "name": "stdout",
     "output_type": "stream",
     "text": [
      "dec   week(1)   tuesday\n",
      "dec   week(2)   tuesday\n",
      "dec   week(4)   monday\n"
     ]
    }
   ],
   "source": [
    "temp[1:3,:,0,:]\n",
    "np.amin(temp[1:3,:,:,:])\n",
    "k=np.min(temp[1:3,:,:,:])\n",
    "m1={0:\"nov\",1:\"dec\",2:\"jan\",3:\"feb\"}\n",
    "w1={0:\"week(1)\",1:\"week(2)\",2:\"week(3)\",3:\"week(4)\"}\n",
    "d1={0:\"monday\",1:\"tuesday\",2:\"wednesday\",3:\"thrusday\",4:\"friday\",5:\"saturday\",6:\"sunday\"}\n",
    "z=np.where(temp[1:3,:,:,:]==k)\n",
    "for i in range(len(z[0])):\n",
    "    print(m1[z[0][i]],\" \",w1[z[1][i]],\" \",d1[z[2][i]])"
   ]
  },
  {
   "cell_type": "raw",
   "id": "26a94868",
   "metadata": {},
   "source": [
    "Q17:find the max temp in the month of feb and return its date"
   ]
  },
  {
   "cell_type": "code",
   "execution_count": 5,
   "id": "11864b71",
   "metadata": {},
   "outputs": [],
   "source": [
    "a=temp[0,:,1,:]"
   ]
  },
  {
   "cell_type": "code",
   "execution_count": 6,
   "id": "e9c23aca",
   "metadata": {},
   "outputs": [
    {
     "data": {
      "text/plain": [
       "array([[28, 32, 24, 25, 28, 27, 32],\n",
       "       [26, 31, 25, 21, 28, 30, 22],\n",
       "       [24, 30, 24, 27, 25, 20, 25],\n",
       "       [29, 20, 24, 23, 21, 24, 29]])"
      ]
     },
     "execution_count": 6,
     "metadata": {},
     "output_type": "execute_result"
    }
   ],
   "source": [
    "a"
   ]
  },
  {
   "cell_type": "code",
   "execution_count": 7,
   "id": "f819bc86",
   "metadata": {},
   "outputs": [],
   "source": [
    "y=np.average(temp[0])"
   ]
  },
  {
   "cell_type": "code",
   "execution_count": 8,
   "id": "3bf489cf",
   "metadata": {},
   "outputs": [
    {
     "data": {
      "text/plain": [
       "(array([], dtype=int64), array([], dtype=int64))"
      ]
     },
     "execution_count": 8,
     "metadata": {},
     "output_type": "execute_result"
    }
   ],
   "source": [
    "np.where(y>a)   #all nov maximum value are not less then to average value"
   ]
  },
  {
   "cell_type": "raw",
   "id": "a88d699c",
   "metadata": {},
   "source": [
    "Q19:The above data is appropriate for an audience who follow the metric system of measurement.create an array that hold the same data but presented in fahrenhiet\n",
    "    "
   ]
  },
  {
   "cell_type": "code",
   "execution_count": 9,
   "id": "91c03d45",
   "metadata": {},
   "outputs": [
    {
     "name": "stdout",
     "output_type": "stream",
     "text": [
      "fahrenheit array [[[[ 43  40  38  44  39  41  40]\n",
      "   [ 60  64  56  57  60  59  64]]\n",
      "\n",
      "  [[ 39  42  42  19  40  46  41]\n",
      "   [ 58  63  57  53  60  62  54]]\n",
      "\n",
      "  [[ 41  38  45  40  38  38  45]\n",
      "   [ 56  62  56  59  57  52  57]]\n",
      "\n",
      "  [[ 45  45  45  38  47  39  41]\n",
      "   [ 61  52  56  55  53  56  61]]]\n",
      "\n",
      "\n",
      " [[[ 43  40  43  41  45  43  41]\n",
      "   [ 56  56  56  63  52  55  64]]\n",
      "\n",
      "  [[ 45  39  42  47  45  39  42]\n",
      "   [ 61  61  56  57  60  64  60]]\n",
      "\n",
      "  [[ 40  45  40  40  47  44  43]\n",
      "   [ 62  59  60  53  59  63  57]]\n",
      "\n",
      "  [[ 45  44  47  45  43  39  38]\n",
      "   [ 61  58  62  58  54  64  59]]]\n",
      "\n",
      "\n",
      " [[[ 37  35  36  37  35  35  53]\n",
      "   [ 51  50  50  50  54  34  37]]\n",
      "\n",
      "  [[ 37  38  38  36  39  39  53]\n",
      "   [ 52  50  51  52  52  39  34]]\n",
      "\n",
      "  [[ 39  38  37  39  39  37  51]\n",
      "   [ 52  52  54  50  52  36  35]]\n",
      "\n",
      "  [[ 40  39  38  34  38  36  50]\n",
      "   [ 52  51  54  50  51  36  39]]]\n",
      "\n",
      "\n",
      " [[[ 39  42  22  43  43  43  54]\n",
      "   [ 53  52  51  50  52 103  44]]\n",
      "\n",
      "  [[ 42  39  40  39  42  39  51]\n",
      "   [ 53  54  53  50  52  39  40]]\n",
      "\n",
      "  [[ 42  42  44  39  39  39  53]\n",
      "   [ 52  54  54  53  53  44  44]]\n",
      "\n",
      "  [[ 39  39  40  42  43  44  50]\n",
      "   [ 53  54  53  50  50  42  39]]]]\n"
     ]
    }
   ],
   "source": [
    "R=temp+32\n",
    "print('fahrenheit array',R)"
   ]
  },
  {
   "cell_type": "raw",
   "id": "7c3d610b",
   "metadata": {},
   "source": [
    "Q20 sort the above data in descending order on the basis of weekly average for the month of dec "
   ]
  },
  {
   "cell_type": "code",
   "execution_count": 10,
   "id": "4c64479d",
   "metadata": {},
   "outputs": [
    {
     "name": "stdout",
     "output_type": "stream",
     "text": [
      "17.857142857142858\n",
      "19.285714285714285\n",
      "18.857142857142858\n",
      "19.214285714285715\n"
     ]
    }
   ],
   "source": [
    "a=np.average(temp[1,0])\n",
    "b=np.average(temp[1,1])\n",
    "c=np.average(temp[1,2])\n",
    "d=np.average(temp[1,3])\n",
    "print(a)\n",
    "print(b)\n",
    "print(c)\n",
    "print(d)"
   ]
  },
  {
   "cell_type": "code",
   "execution_count": 11,
   "id": "7fa7c7dd",
   "metadata": {},
   "outputs": [],
   "source": [
    "h=np.array([a,b,c,d])"
   ]
  },
  {
   "cell_type": "code",
   "execution_count": 12,
   "id": "a856480d",
   "metadata": {},
   "outputs": [
    {
     "data": {
      "text/plain": [
       "array([17.85714286, 19.28571429, 18.85714286, 19.21428571])"
      ]
     },
     "execution_count": 12,
     "metadata": {},
     "output_type": "execute_result"
    }
   ],
   "source": [
    "h"
   ]
  },
  {
   "cell_type": "code",
   "execution_count": 13,
   "id": "e7d4ba06",
   "metadata": {},
   "outputs": [
    {
     "data": {
      "text/plain": [
       "array([19.28571429, 19.21428571, 18.85714286, 17.85714286])"
      ]
     },
     "execution_count": 13,
     "metadata": {},
     "output_type": "execute_result"
    }
   ],
   "source": [
    "np.sort(h)[::-1]"
   ]
  },
  {
   "cell_type": "raw",
   "id": "0a6daff1",
   "metadata": {},
   "source": [
    "Q21 sort the temp of the first three days of each month in descending order on the basis of overall average for the whole winter"
   ]
  },
  {
   "cell_type": "code",
   "execution_count": 14,
   "id": "70010432",
   "metadata": {},
   "outputs": [
    {
     "name": "stdout",
     "output_type": "stream",
     "text": [
      "17.857142857142858\n",
      "18.875\n",
      "12.625\n",
      "14.083333333333334\n"
     ]
    }
   ],
   "source": [
    "a==np.average(temp[0,:,:,0:3])\n",
    "b=np.average(temp[1,:,:,0:3])\n",
    "c=np.average(temp[2,:,:,0:3])\n",
    "d=np.average(temp[3,:,:,0:3])\n",
    "print(a)\n",
    "print(b)\n",
    "print(c)\n",
    "print(d)\n"
   ]
  },
  {
   "cell_type": "code",
   "execution_count": 15,
   "id": "1a1f284c",
   "metadata": {},
   "outputs": [
    {
     "data": {
      "text/plain": [
       "18.166666666666668"
      ]
     },
     "execution_count": 15,
     "metadata": {},
     "output_type": "execute_result"
    }
   ],
   "source": [
    "a=np.average(temp[0,:,:,0:3])\n",
    "a"
   ]
  },
  {
   "cell_type": "code",
   "execution_count": 16,
   "id": "e8b9315e",
   "metadata": {},
   "outputs": [],
   "source": [
    "w=np.array([a,b,c,d])"
   ]
  },
  {
   "cell_type": "code",
   "execution_count": 17,
   "id": "05ce0122",
   "metadata": {},
   "outputs": [
    {
     "data": {
      "text/plain": [
       "array([18.16666667, 18.875     , 12.625     , 14.08333333])"
      ]
     },
     "execution_count": 17,
     "metadata": {},
     "output_type": "execute_result"
    }
   ],
   "source": [
    "w"
   ]
  },
  {
   "cell_type": "raw",
   "id": "d7ced9aa",
   "metadata": {},
   "source": []
  },
  {
   "cell_type": "code",
   "execution_count": 18,
   "id": "9ecf2f34",
   "metadata": {},
   "outputs": [
    {
     "data": {
      "text/plain": [
       "array([18.875     , 18.16666667, 14.08333333, 12.625     ])"
      ]
     },
     "execution_count": 18,
     "metadata": {},
     "output_type": "execute_result"
    }
   ],
   "source": [
    "np.sort(w)[::-1]"
   ]
  },
  {
   "cell_type": "raw",
   "id": "071f8702",
   "metadata": {},
   "source": [
    "Q22 create an array that stores the difference between the min and max temp for each day in all the winter month"
   ]
  },
  {
   "cell_type": "code",
   "execution_count": 19,
   "id": "748ec297",
   "metadata": {},
   "outputs": [
    {
     "name": "stdout",
     "output_type": "stream",
     "text": [
      "[[[ 17  24  18  13  21  18  24]\n",
      "  [ 19  21  15  34  20  16  13]\n",
      "  [ 15  24  11  19  19  14  12]\n",
      "  [ 16   7  11  17   6  17  20]]\n",
      "\n",
      " [[ 13  16  13  22   7  12  23]\n",
      "  [ 16  22  14  10  15  25  18]\n",
      "  [ 22  14  20  13  12  19  14]\n",
      "  [ 16  14  15  13  11  25  21]]\n",
      "\n",
      " [[ 14  15  14  13  19  -1 -16]\n",
      "  [ 15  12  13  16  13   0 -19]\n",
      "  [ 13  14  17  11  13  -1 -16]\n",
      "  [ 12  12  16  16  13   0 -11]]\n",
      "\n",
      " [[ 14  10  29   7   9  60 -10]\n",
      "  [ 11  15  13  11  10   0 -11]\n",
      "  [ 10  12  10  14  14   5  -9]\n",
      "  [ 14  15  13   8   7  -2 -11]]]\n"
     ]
    }
   ],
   "source": [
    "x=temp[:,:,0,:]\n",
    "y=temp[:,:,1,:]\n",
    "diff=y-x\n",
    "print(diff)"
   ]
  },
  {
   "cell_type": "markdown",
   "id": "a0e9a40b",
   "metadata": {},
   "source": [
    "Q23 find and store tghe difference between the max temp of two consecutive days for each month of winter season"
   ]
  },
  {
   "cell_type": "code",
   "execution_count": 20,
   "id": "51387ca5",
   "metadata": {},
   "outputs": [
    {
     "name": "stdout",
     "output_type": "stream",
     "text": [
      "[[[  4  -8   1   3  -1   5]\n",
      "  [  5  -6  -4   7   2  -8]\n",
      "  [  6  -6   3  -2  -5   5]\n",
      "  [ -9   4  -1  -2   3   5]]\n",
      "\n",
      " [[  0   0   7 -11   3   9]\n",
      "  [  0  -5   1   3   4  -4]\n",
      "  [ -3   1  -7   6   4  -6]\n",
      "  [ -3   4  -4  -4  10  -5]]\n",
      "\n",
      " [[ -1   0   0   4 -20   3]\n",
      "  [ -2   1   1   0 -13  -5]\n",
      "  [  0   2  -4   2 -16  -1]\n",
      "  [ -1   3  -4   1 -15   3]]\n",
      "\n",
      " [[ -1  -1  -1   2  51 -59]\n",
      "  [  1  -1  -3   2 -13   1]\n",
      "  [  2   0  -1   0  -9   0]\n",
      "  [  1  -1  -3   0  -8  -3]]]\n"
     ]
    }
   ],
   "source": [
    "k=temp[:,:,1,:]\n",
    "arr=np.diff(k,axis=2)\n",
    "print(arr)"
   ]
  },
  {
   "cell_type": "raw",
   "id": "52a895a0",
   "metadata": {},
   "source": [
    "Q24 find and store the diff between the min temp of two consecutive day for each month of the winter season"
   ]
  },
  {
   "cell_type": "code",
   "execution_count": 21,
   "id": "d17da1e2",
   "metadata": {},
   "outputs": [
    {
     "name": "stdout",
     "output_type": "stream",
     "text": [
      "[[[ -3  -2   6  -5   2  -1]\n",
      "  [  3   0 -23  21   6  -5]\n",
      "  [ -3   7  -5  -2   0   7]\n",
      "  [  0   0  -7   9  -8   2]]\n",
      "\n",
      " [[ -3   3  -2   4  -2  -2]\n",
      "  [ -6   3   5  -2  -6   3]\n",
      "  [  5  -5   0   7  -3  -1]\n",
      "  [ -1   3  -2  -2  -4  -1]]\n",
      "\n",
      " [[ -2   1   1  -2   0  18]\n",
      "  [  1   0  -2   3   0  14]\n",
      "  [ -1  -1   2   0  -2  14]\n",
      "  [ -1  -1  -4   4  -2  14]]\n",
      "\n",
      " [[  3 -20  21   0   0  11]\n",
      "  [ -3   1  -1   3  -3  12]\n",
      "  [  0   2  -5   0   0  14]\n",
      "  [  0   1   2   1   1   6]]]\n"
     ]
    }
   ],
   "source": [
    "s=temp[:,:,0,:]\n",
    "arr=np.diff(s,axis=2)\n",
    "print(arr)"
   ]
  },
  {
   "cell_type": "raw",
   "id": "c170e741",
   "metadata": {},
   "source": [
    "Q25 create an array by combining the data present in array created in q23 and q24,to store the diff between the min and max temp pf each day of all the month for the whole winter"
   ]
  },
  {
   "cell_type": "code",
   "execution_count": null,
   "id": "b15a8517",
   "metadata": {},
   "outputs": [],
   "source": [
    "add_array=np.concatenate([s,k])\n",
    "add_array.fla"
   ]
  }
 ],
 "metadata": {
  "kernelspec": {
   "display_name": "Python 3 (ipykernel)",
   "language": "python",
   "name": "python3"
  },
  "language_info": {
   "codemirror_mode": {
    "name": "ipython",
    "version": 3
   },
   "file_extension": ".py",
   "mimetype": "text/x-python",
   "name": "python",
   "nbconvert_exporter": "python",
   "pygments_lexer": "ipython3",
   "version": "3.9.9"
  }
 },
 "nbformat": 4,
 "nbformat_minor": 5
}
